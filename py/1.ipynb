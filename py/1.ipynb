{
 "cells": [
  {
   "cell_type": "code",
   "execution_count": 1,
   "id": "b52dbeb9",
   "metadata": {},
   "outputs": [],
   "source": [
    "import pandas as pd"
   ]
  },
  {
   "cell_type": "code",
   "execution_count": 2,
   "id": "393ccb80",
   "metadata": {},
   "outputs": [],
   "source": [
    "df_import = pd.read_csv('../data/raw/I_TradeData_5_6_2025_3_32_56.csv', encoding='ISO-8859-1')\n",
    "df_export = pd.read_csv('../data/raw/E_TradeData_5_6_2025_3_32_1.csv', encoding='ISO-8859-1')"
   ]
  },
  {
   "cell_type": "code",
   "execution_count": 3,
   "id": "c4f1e960",
   "metadata": {},
   "outputs": [
    {
     "name": "stdout",
     "output_type": "stream",
     "text": [
      "Index(['typeCode', 'freqCode', 'refPeriodId', 'refYear', 'refMonth', 'period',\n",
      "       'reporterCode', 'reporterISO', 'reporterDesc', 'flowCode', 'flowDesc',\n",
      "       'partnerCode', 'partnerISO', 'partnerDesc', 'partner2Code',\n",
      "       'partner2ISO', 'partner2Desc', 'classificationCode',\n",
      "       'classificationSearchCode', 'isOriginalClassification', 'cmdCode',\n",
      "       'cmdDesc', 'aggrLevel', 'isLeaf', 'customsCode', 'customsDesc',\n",
      "       'mosCode', 'motCode', 'motDesc', 'qtyUnitCode', 'qtyUnitAbbr', 'qty',\n",
      "       'isQtyEstimated', 'altQtyUnitCode', 'altQtyUnitAbbr', 'altQty',\n",
      "       'isAltQtyEstimated', 'netWgt', 'isNetWgtEstimated', 'grossWgt',\n",
      "       'isGrossWgtEstimated', 'cifvalue', 'fobvalue', 'primaryValue',\n",
      "       'legacyEstimationFlag', 'isReported', 'isAggregate'],\n",
      "      dtype='object')\n",
      "   typeCode  freqCode  refPeriodId  refYear  refMonth  period reporterCode  \\\n",
      "C         A  20230101         2023       52      2023       8          ALB   \n",
      "C         A  20230101         2023       52      2023      20          AND   \n",
      "C         A  20230101         2023       52      2023      24          AGO   \n",
      "C         A  20230101         2023       52      2023      28          ATG   \n",
      "C         A  20230101         2023       52      2023      31          AZE   \n",
      "..      ...       ...          ...      ...       ...     ...          ...   \n",
      "C         A  20230101         2023       52      2023     854          BFA   \n",
      "C         A  20230101         2023       52      2023     858          URY   \n",
      "C         A  20230101         2023       52      2023     860          UZB   \n",
      "C         A  20230101         2023       52      2023     882          WSM   \n",
      "C         A  20230101         2023       52      2023     894          ZMB   \n",
      "\n",
      "            reporterISO reporterDesc flowCode  ...  netWgt isNetWgtEstimated  \\\n",
      "C               Albania            M   Import  ...   False               0.0   \n",
      "C               Andorra            M   Import  ...   False               0.0   \n",
      "C                Angola            M   Import  ...    True               0.0   \n",
      "C   Antigua and Barbuda            M   Import  ...   False               0.0   \n",
      "C            Azerbaijan            M   Import  ...   False               0.0   \n",
      "..                  ...          ...      ...  ...     ...               ...   \n",
      "C          Burkina Faso            M   Import  ...   False               0.0   \n",
      "C               Uruguay            M   Import  ...   False               0.0   \n",
      "C            Uzbekistan            M   Import  ...    True               0.0   \n",
      "C                 Samoa            M   Import  ...   False               0.0   \n",
      "C                Zambia            M   Import  ...   False               0.0   \n",
      "\n",
      "   grossWgt  isGrossWgtEstimated      cifvalue      fobvalue primaryValue  \\\n",
      "C     False         1.286637e+06           NaN  1.286637e+06            0   \n",
      "C     False         1.989116e+05           NaN  1.989116e+05            0   \n",
      "C     False         6.704016e+06  6.314872e+06  6.704016e+06            6   \n",
      "C     False         1.987073e+04           NaN  1.987073e+04            0   \n",
      "C     False         4.120295e+05           NaN  4.120295e+05            0   \n",
      "..      ...                  ...           ...           ...          ...   \n",
      "C     False         1.810970e+08           NaN  1.810970e+08            0   \n",
      "C     False         2.150008e+08  1.911535e+08  2.150008e+08            0   \n",
      "C     False         1.369807e+09           NaN  1.369807e+09            6   \n",
      "C     False         5.445088e+06           NaN  5.445088e+06            0   \n",
      "C     False         1.773370e+08           NaN  1.773370e+08            0   \n",
      "\n",
      "   legacyEstimationFlag  isReported  isAggregate  \n",
      "C                 False        True          NaN  \n",
      "C                 False        True          NaN  \n",
      "C                 False        True          NaN  \n",
      "C                 False        True          NaN  \n",
      "C                 False        True          NaN  \n",
      "..                  ...         ...          ...  \n",
      "C                 False        True          NaN  \n",
      "C                 False        True          NaN  \n",
      "C                 False        True          NaN  \n",
      "C                 False        True          NaN  \n",
      "C                 False        True          NaN  \n",
      "\n",
      "[1054 rows x 47 columns]\n",
      "Index(['typeCode', 'freqCode', 'refPeriodId', 'refYear', 'refMonth', 'period',\n",
      "       'reporterCode', 'reporterISO', 'reporterDesc', 'flowCode', 'flowDesc',\n",
      "       'partnerCode', 'partnerISO', 'partnerDesc', 'partner2Code',\n",
      "       'partner2ISO', 'partner2Desc', 'classificationCode',\n",
      "       'classificationSearchCode', 'isOriginalClassification', 'cmdCode',\n",
      "       'cmdDesc', 'aggrLevel', 'isLeaf', 'customsCode', 'customsDesc',\n",
      "       'mosCode', 'motCode', 'motDesc', 'qtyUnitCode', 'qtyUnitAbbr', 'qty',\n",
      "       'isQtyEstimated', 'altQtyUnitCode', 'altQtyUnitAbbr', 'altQty',\n",
      "       'isAltQtyEstimated', 'netWgt', 'isNetWgtEstimated', 'grossWgt',\n",
      "       'isGrossWgtEstimated', 'cifvalue', 'fobvalue', 'primaryValue',\n",
      "       'legacyEstimationFlag', 'isReported', 'isAggregate'],\n",
      "      dtype='object')\n",
      "    typeCode freqCode  refPeriodId  refYear  refMonth  period  reporterCode  \\\n",
      "0          C        A     20230101     2023        52    2023             8   \n",
      "1          C        A     20230101     2023        52    2023            20   \n",
      "2          C        A     20230101     2023        52    2023            24   \n",
      "3          C        A     20230101     2023        52    2023            28   \n",
      "4          C        A     20230101     2023        52    2023            31   \n",
      "..       ...      ...          ...      ...       ...     ...           ...   \n",
      "790        C        A     20230101     2023        52    2023           854   \n",
      "791        C        A     20230101     2023        52    2023           858   \n",
      "792        C        A     20230101     2023        52    2023           860   \n",
      "793        C        A     20230101     2023        52    2023           882   \n",
      "794        C        A     20230101     2023        52    2023           894   \n",
      "\n",
      "    reporterISO         reporterDesc flowCode  ...       netWgt  \\\n",
      "0           ALB              Albania        X  ...     1772.150   \n",
      "1           AND              Andorra        X  ...       89.460   \n",
      "2           AGO               Angola        X  ...       29.000   \n",
      "3           ATG  Antigua and Barbuda        X  ...        6.000   \n",
      "4           AZE           Azerbaijan        X  ...        2.650   \n",
      "..          ...                  ...      ...  ...          ...   \n",
      "790         BFA         Burkina Faso        X  ...   136586.000   \n",
      "791         URY              Uruguay        X  ...  2394648.070   \n",
      "792         UZB           Uzbekistan        X  ...  4447529.110   \n",
      "793         WSM                Samoa        X  ...      686.755   \n",
      "794         ZMB               Zambia        X  ...    19416.000   \n",
      "\n",
      "     isNetWgtEstimated grossWgt isGrossWgtEstimated  cifvalue      fobvalue  \\\n",
      "0                False      0.0               False       NaN  6.374702e+04   \n",
      "1                False      0.0               False       NaN  3.654598e+04   \n",
      "2                False      0.0               False       NaN  4.685990e+02   \n",
      "3                False      0.0               False       NaN  1.523260e+02   \n",
      "4                False      0.0               False       NaN  1.281059e+04   \n",
      "..                 ...      ...                 ...       ...           ...   \n",
      "790              False      0.0               False       NaN  1.288910e+06   \n",
      "791              False      0.0               False       NaN  7.893460e+07   \n",
      "792              False      0.0               False       NaN  1.366577e+07   \n",
      "793               True      0.0               False       NaN  6.364219e+03   \n",
      "794              False      0.0               False       NaN  1.072794e+06   \n",
      "\n",
      "     primaryValue legacyEstimationFlag isReported  isAggregate  \n",
      "0    6.374702e+04                    0      False         True  \n",
      "1    3.654598e+04                    0      False         True  \n",
      "2    4.685990e+02                    0      False         True  \n",
      "3    1.523260e+02                    0      False         True  \n",
      "4    1.281059e+04                    0      False         True  \n",
      "..            ...                  ...        ...          ...  \n",
      "790  1.288910e+06                    0      False         True  \n",
      "791  7.893460e+07                    0      False         True  \n",
      "792  1.366577e+07                    0      False         True  \n",
      "793  6.364219e+03                    6      False         True  \n",
      "794  1.072794e+06                    0      False         True  \n",
      "\n",
      "[795 rows x 47 columns]\n"
     ]
    }
   ],
   "source": [
    "print(df_import.columns)\n",
    "print(df_import)\n",
    "print(df_export.columns)\n",
    "print(df_export)"
   ]
  },
  {
   "cell_type": "code",
   "execution_count": 4,
   "id": "0253e4a9",
   "metadata": {},
   "outputs": [],
   "source": [
    "df_import_clean = df_import[['reporterCode','reporterISO', 'fobvalue']].copy()\n",
    "df_import_clean['fobvalue'] = pd.to_numeric(df_import_clean['fobvalue'], errors='coerce').fillna(0)\n",
    "\n",
    "df_export_clean = df_export[['reporterISO','reporterDesc', 'fobvalue']].copy()\n",
    "df_export_clean['fobvalue'] = pd.to_numeric(df_export_clean['fobvalue'], errors='coerce').fillna(0)"
   ]
  },
  {
   "cell_type": "code",
   "execution_count": 5,
   "id": "0e72783c",
   "metadata": {},
   "outputs": [],
   "source": [
    "df_import_clean = df_import_clean.rename(columns={\n",
    "    'reporterISO': 'reporter',\n",
    "    'fobvalue': 'Import'\n",
    "})\n",
    "\n",
    "df_export_clean = df_export_clean.rename(columns={\n",
    "    'reporterISO': 'reporterCode',\n",
    "    'reporterDesc': 'reporter',\n",
    "    'fobvalue': 'Export'\n",
    "})"
   ]
  },
  {
   "cell_type": "code",
   "execution_count": 6,
   "id": "ff43f04a",
   "metadata": {},
   "outputs": [
    {
     "name": "stdout",
     "output_type": "stream",
     "text": [
      "   reporterCode             reporter        Import\n",
      "C           ALB              Albania  1.286637e+06\n",
      "C           AND              Andorra  1.989116e+05\n",
      "C           AGO               Angola  6.704016e+06\n",
      "C           ATG  Antigua and Barbuda  1.987073e+04\n",
      "C           AZE           Azerbaijan  4.120295e+05\n",
      "..          ...                  ...           ...\n",
      "C           BFA         Burkina Faso  1.810970e+08\n",
      "C           URY              Uruguay  2.150008e+08\n",
      "C           UZB           Uzbekistan  1.369807e+09\n",
      "C           WSM                Samoa  5.445088e+06\n",
      "C           ZMB               Zambia  1.773370e+08\n",
      "\n",
      "[1054 rows x 3 columns]\n",
      "    reporterCode             reporter        Export\n",
      "0            ALB              Albania  6.374702e+04\n",
      "1            AND              Andorra  3.654598e+04\n",
      "2            AGO               Angola  4.685990e+02\n",
      "3            ATG  Antigua and Barbuda  1.523260e+02\n",
      "4            AZE           Azerbaijan  1.281059e+04\n",
      "..           ...                  ...           ...\n",
      "790          BFA         Burkina Faso  1.288910e+06\n",
      "791          URY              Uruguay  7.893460e+07\n",
      "792          UZB           Uzbekistan  1.366577e+07\n",
      "793          WSM                Samoa  6.364219e+03\n",
      "794          ZMB               Zambia  1.072794e+06\n",
      "\n",
      "[795 rows x 3 columns]\n"
     ]
    }
   ],
   "source": [
    "print(df_import_clean)\n",
    "print(df_export_clean)"
   ]
  },
  {
   "cell_type": "code",
   "execution_count": 7,
   "id": "c15829d0",
   "metadata": {},
   "outputs": [],
   "source": [
    "df_import_agg = df_import_clean.groupby('reporterCode')['Import'].sum().reset_index()\n",
    "df_export_agg = df_export_clean.groupby('reporterCode')['Export'].sum().reset_index()"
   ]
  },
  {
   "cell_type": "code",
   "execution_count": 8,
   "id": "5aae17f1",
   "metadata": {},
   "outputs": [
    {
     "name": "stdout",
     "output_type": "stream",
     "text": [
      "    reporterCode        Import\n",
      "0            ABW  3.692475e+07\n",
      "1            AGO  3.267896e+08\n",
      "2            ALB  2.380411e+08\n",
      "3            AND  4.504079e+07\n",
      "4            ARE  6.056440e+09\n",
      "..           ...           ...\n",
      "149          VNM  4.046772e+09\n",
      "150          WSM  6.376920e+06\n",
      "151          ZAF  2.339572e+09\n",
      "152          ZMB  2.487578e+08\n",
      "153          ZWE  2.144565e+08\n",
      "\n",
      "[154 rows x 2 columns]\n",
      "    reporterCode        Export\n",
      "0            ABW  2.067436e+05\n",
      "1            AGO  8.291631e+03\n",
      "2            ALB  4.489982e+06\n",
      "3            AND  6.592088e+04\n",
      "4            ARE  1.855188e+09\n",
      "..           ...           ...\n",
      "144          VNM  2.430503e+08\n",
      "145          WSM  1.239293e+05\n",
      "146          ZAF  4.487443e+08\n",
      "147          ZMB  6.393296e+06\n",
      "148          ZWE  4.536038e+06\n",
      "\n",
      "[149 rows x 2 columns]\n"
     ]
    }
   ],
   "source": [
    "print(df_import_agg)\n",
    "print(df_export_agg)"
   ]
  },
  {
   "cell_type": "code",
   "execution_count": 9,
   "id": "6179abe5",
   "metadata": {},
   "outputs": [
    {
     "name": "stdout",
     "output_type": "stream",
     "text": [
      "    reporterCode        Import        Export\n",
      "0            ABW  3.692475e+07  2.067436e+05\n",
      "1            AGO  3.267896e+08  8.291631e+03\n",
      "2            ALB  2.380411e+08  4.489982e+06\n",
      "3            AND  4.504079e+07  6.592088e+04\n",
      "4            ARE  6.056440e+09  1.855188e+09\n",
      "..           ...           ...           ...\n",
      "149          VNM  4.046772e+09  2.430503e+08\n",
      "150          WSM  6.376920e+06  1.239293e+05\n",
      "151          ZAF  2.339572e+09  4.487443e+08\n",
      "152          ZMB  2.487578e+08  6.393296e+06\n",
      "153          ZWE  2.144565e+08  4.536038e+06\n",
      "\n",
      "[154 rows x 3 columns]\n"
     ]
    }
   ],
   "source": [
    "df_merged = pd.merge(df_import_agg, df_export_agg, on='reporterCode', how='outer').fillna(0)\n",
    "print(df_merged)"
   ]
  },
  {
   "cell_type": "code",
   "execution_count": 10,
   "id": "890adaca",
   "metadata": {},
   "outputs": [
    {
     "name": "stdout",
     "output_type": "stream",
     "text": [
      "    reporterCode         Total        Import        Export\n",
      "0            ABW  3.713150e+07  3.692475e+07  2.067436e+05\n",
      "1            AGO  3.267978e+08  3.267896e+08  8.291631e+03\n",
      "2            ALB  2.425311e+08  2.380411e+08  4.489982e+06\n",
      "3            AND  4.510671e+07  4.504079e+07  6.592088e+04\n",
      "4            ARE  7.911628e+09  6.056440e+09  1.855188e+09\n",
      "..           ...           ...           ...           ...\n",
      "149          VNM  4.289822e+09  4.046772e+09  2.430503e+08\n",
      "150          WSM  6.500849e+06  6.376920e+06  1.239293e+05\n",
      "151          ZAF  2.788317e+09  2.339572e+09  4.487443e+08\n",
      "152          ZMB  2.551511e+08  2.487578e+08  6.393296e+06\n",
      "153          ZWE  2.189925e+08  2.144565e+08  4.536038e+06\n",
      "\n",
      "[154 rows x 4 columns]\n"
     ]
    }
   ],
   "source": [
    "df_merged['Total'] = df_merged['Import'] + df_merged['Export']\n",
    "\n",
    "df_merged = df_merged[['reporterCode', 'Total', 'Import', 'Export']]\n",
    "\n",
    "print(df_merged)"
   ]
  },
  {
   "cell_type": "code",
   "execution_count": 11,
   "id": "5d18edc9",
   "metadata": {},
   "outputs": [
    {
     "name": "stdout",
     "output_type": "stream",
     "text": [
      "Done\n"
     ]
    }
   ],
   "source": [
    "output_path = '../data/clean/trade_data.js'\n",
    "with open(output_path, 'w', encoding='utf-8') as f:\n",
    "    f.write('export const tradeData = {\\n')\n",
    "    for _, row in df_merged.iterrows():\n",
    "        country = row['reporterCode'].replace('\"', '\\\\\"')\n",
    "        total = round(row['Total'], 2)\n",
    "        imp = round(row['Import'], 2)\n",
    "        exp = round(row['Export'], 2)\n",
    "        line = f'    \"{country}\": {{ total: {total}, import: {imp}, export: {exp} }},\\n'\n",
    "        f.write(line)\n",
    "    f.write('};\\n')\n",
    "\n",
    "print(\"Done\")\n"
   ]
  }
 ],
 "metadata": {
  "kernelspec": {
   "display_name": "Python 3",
   "language": "python",
   "name": "python3"
  },
  "language_info": {
   "codemirror_mode": {
    "name": "ipython",
    "version": 3
   },
   "file_extension": ".py",
   "mimetype": "text/x-python",
   "name": "python",
   "nbconvert_exporter": "python",
   "pygments_lexer": "ipython3",
   "version": "3.13.2"
  }
 },
 "nbformat": 4,
 "nbformat_minor": 5
}
